{
 "cells": [
  {
   "cell_type": "code",
   "execution_count": 1,
   "id": "b1dc6f7f-45a1-432f-a3b9-6ef1788035a2",
   "metadata": {},
   "outputs": [
    {
     "name": "stdout",
     "output_type": "stream",
     "text": [
      "Loaded enriched: weekly_summary_enriched_2025-08-20.csv shape: (5, 40)\n",
      "Loaded natsec: natsec_summary_2025-08-20.csv shape: (0, 7)\n"
     ]
    }
   ],
   "source": [
    "# Load the lastest processed CSV file\n",
    "\n",
    "import pandas as pd\n",
    "from pathlib import Path\n",
    "\n",
    "proc = Path(\"../data/processed\")\n",
    "enriched_files = sorted(proc.glob(\"weekly_summary_enriched_*.csv\"))\n",
    "natsec_files   = sorted(proc.glob(\"natsec_summary_*.csv\"))\n",
    "\n",
    "if not enriched_files:\n",
    "    raise FileNotFoundError(\"No enriched CSV found. Run 02_parse_and_classify.ipynb.\")\n",
    "enriched = enriched_files[-1]\n",
    "\n",
    "natsec = natsec_files[-1] if natsec_files else None\n",
    "\n",
    "df_enriched = pd.read_csv(enriched)\n",
    "print(\"Loaded enriched:\", enriched.name, \"shape:\", df_enriched.shape)\n",
    "\n",
    "if natsec:\n",
    "    df_natsec = pd.read_csv(natsec)\n",
    "    print(\"Loaded natsec:\", natsec.name, \"shape:\", df_natsec.shape)\n",
    "else:\n",
    "    df_natsec = pd.DataFrame()\n",
    "    print(\"No natsec summary file found.\")"
   ]
  },
  {
   "cell_type": "code",
   "execution_count": 2,
   "id": "900c1e21-e7b3-4080-8a90-bd82aeea4f2c",
   "metadata": {},
   "outputs": [
    {
     "name": "stdout",
     "output_type": "stream",
     "text": [
      "Total decisions: 5\n",
      "\n",
      "By subject:\n",
      " subject_category\n",
      "Other/Unknown    5\n",
      "Name: count, dtype: int64\n",
      "\n",
      "By decision stage:\n",
      " decision_stage\n",
      "Institution    4\n",
      "Other          1\n",
      "Name: count, dtype: int64\n"
     ]
    }
   ],
   "source": [
    "total = len(df_enriched)\n",
    "by_subject = df_enriched[\"subject_category\"].value_counts()\n",
    "by_stage   = df_enriched[\"decision_stage\"].value_counts()\n",
    "\n",
    "print(\"Total decisions:\", total)\n",
    "print(\"\\nBy subject:\\n\", by_subject)\n",
    "print(\"\\nBy decision stage:\\n\", by_stage)"
   ]
  },
  {
   "cell_type": "code",
   "execution_count": 3,
   "id": "a59ecc20-d5c2-4b7b-8b9a-deb2892606da",
   "metadata": {},
   "outputs": [
    {
     "name": "stdout",
     "output_type": "stream",
     "text": [
      "No rows flagged as National Security related in the current run.\n"
     ]
    }
   ],
   "source": [
    "if not df_natsec.empty:\n",
    "    df_natsec.head(20)\n",
    "else:\n",
    "    print(\"No rows flagged as National Security related in the current run.\")"
   ]
  },
  {
   "cell_type": "code",
   "execution_count": null,
   "id": "4c2fd48d-e92f-48d5-b572-4ba9b94782fd",
   "metadata": {},
   "outputs": [],
   "source": []
  }
 ],
 "metadata": {
  "kernelspec": {
   "display_name": "Python 3 (ipykernel)",
   "language": "python",
   "name": "python3"
  },
  "language_info": {
   "codemirror_mode": {
    "name": "ipython",
    "version": 3
   },
   "file_extension": ".py",
   "mimetype": "text/x-python",
   "name": "python",
   "nbconvert_exporter": "python",
   "pygments_lexer": "ipython3",
   "version": "3.12.11"
  }
 },
 "nbformat": 4,
 "nbformat_minor": 5
}
