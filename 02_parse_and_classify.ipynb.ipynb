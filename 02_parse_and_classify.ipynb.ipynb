{
 "cells": [
  {
   "cell_type": "code",
   "execution_count": 4,
   "id": "fd7b276a-17a8-4c64-9324-c6bc84d47525",
   "metadata": {},
   "outputs": [
    {
     "name": "stdout",
     "output_type": "stream",
     "text": [
      "Using: proceedings_2025-08-01_to_2025-08-20_2025-08-21_091356.json and decisions_2025-08-01_to_2025-08-20_2025-08-21_091356.json\n"
     ]
    }
   ],
   "source": [
    "# Import both raw files, ensure proceeding number exists\n",
    "\n",
    "import json\n",
    "import pandas as pd\n",
    "import numpy as np\n",
    "from pathlib import Path\n",
    "\n",
    "rawdir = Path(\"../PTAB_Project_Data/Raw\")\n",
    "\n",
    "latest_procs = sorted(rawdir.glob(\"proceedings_*.json\"))[-1]\n",
    "latest_decs  = sorted(rawdir.glob(\"decisions_*.json\"))[-1]\n",
    "print(\"Using:\", latest_procs.name, \"and\", latest_decs.name)\n",
    "\n",
    "procs = pd.DataFrame(json.load(open(latest_procs))[\"results\"])\n",
    "decs  = pd.DataFrame(json.load(open(latest_decs))[\"results\"])\n",
    "\n",
    "# Clean keys\n",
    "for df in (procs, decs):\n",
    "    if \"proceedingNumber\" not in df.columns:\n",
    "        raise ValueError(\"Missing 'proceedingNumber'\")\n",
    "    df[\"proceedingNumber\"] = df[\"proceedingNumber\"].astype(str).str.strip()\n",
    "\n",
    "# Make sure TC field exists in proceedings (if not already normalized upstream)\n",
    "if \"technologyCenterNumber\" not in procs.columns:\n",
    "    tc_cols = [c for c in procs.columns if c.lower().endswith(\"technologycenternumber\")]\n",
    "    procs[\"technologyCenterRaw\"] = procs[tc_cols].bfill(axis=1).iloc[:,0] if tc_cols else pd.NA\n",
    "    procs[\"technologyCenterNumber\"] = (\n",
    "        procs[\"technologyCenterRaw\"].astype(\"string\").str.extract(r\"(\\d{4})\", expand=False).str.strip()\n",
    "    )"
   ]
  },
  {
   "cell_type": "code",
   "execution_count": 5,
   "id": "e227680e-0876-4130-8320-1287134493c1",
   "metadata": {},
   "outputs": [
    {
     "name": "stdout",
     "output_type": "stream",
     "text": [
      "Rows, Cols: (488, 35)\n"
     ]
    }
   ],
   "source": [
    "# Add TC into each decision row\n",
    "\n",
    "df = decs.merge(\n",
    "    procs[[\"proceedingNumber\",\"technologyCenterNumber\"]].drop_duplicates(\"proceedingNumber\"),\n",
    "    on=\"proceedingNumber\", how=\"left\"\n",
    ")\n",
    "print(\"Rows, Cols:\", df.shape)"
   ]
  },
  {
   "cell_type": "code",
   "execution_count": 8,
   "id": "d58be2c8-f2c2-49ff-850d-1248e4e045f1",
   "metadata": {},
   "outputs": [],
   "source": [
    "# Label decision stage\n",
    "\n",
    "def s(col):\n",
    "    return (pd.Series(df[col]).astype(\"string\").fillna(\"\").str.lower()\n",
    "            if col in df.columns else pd.Series([\"\"]*len(df), index=df.index, dtype=\"string\"))\n",
    "\n",
    "txt = s(\"decisionTypeCategory\") + \" \" + s(\"subdecisionTypeCategory\") + \" \" + s(\"documentTitle\") + \" \" + s(\"decisionSummary\")\n",
    "\n",
    "is_disc_deny = txt.str.contains(\"discretionary denial\", na=False) | txt.str.contains(r\"\\bfintiv\\b\", na=False) | txt.str.contains(r\"\\b314\\(a\\)\\b\", na=False) | txt.str.contains(r\"\\b325\\(d\\)\\b\", na=False)\n",
    "is_final     = txt.str.contains(\"final written decision\", na=False) | txt.str.contains(\"final decision\", na=False) | txt.str.contains(\"final judgment\", na=False)\n",
    "is_institute = txt.str.contains(\"institution decision\", na=False) | txt.str.contains(\"decision on institution\", na=False) | txt.str.contains(r\"\\binstituted\\b\", na=False) | txt.str.contains(r\"\\binstitution denied\\b\", na=False) | txt.str.contains(r\"\\bdeny institution\\b\", na=False) | txt.str.contains(r\"\\binstitution\\b\", na=False)\n",
    "\n",
    "df[\"decision_stage\"] = \"Other\"\n",
    "df.loc[is_institute, \"decision_stage\"] = \"Institution\"\n",
    "df.loc[is_final,     \"decision_stage\"] = \"Final\"\n",
    "df.loc[is_disc_deny, \"decision_stage\"] = \"Discretionary Denial\""
   ]
  },
  {
   "cell_type": "code",
   "execution_count": 14,
   "id": "0229c91e-e1ec-4c9b-83d7-8b54cba0ff2e",
   "metadata": {},
   "outputs": [
    {
     "name": "stdout",
     "output_type": "stream",
     "text": [
      "subject_category\n",
      "Mechanical/Manufacturing       90\n",
      "New Energy                     76\n",
      "Networking/Security            54\n",
      "Mechanical/Business Methods    54\n",
      "Computing/Software             53\n",
      "Biotechnology                  53\n",
      "Semiconductors                 53\n",
      "Communications                 49\n",
      "Other/Unknown                   5\n",
      "Designs                         1\n",
      "Name: count, dtype: int64\n",
      "national_security_flag\n",
      "National Security related        285\n",
      "Not National Security related    203\n",
      "Name: count, dtype: int64\n"
     ]
    }
   ],
   "source": [
    "# Nat Sec related flag targets\n",
    "\n",
    "import numpy as np  \n",
    "\n",
    "TC_TO_SUBJECT = {\n",
    "    \"1600\": \"Biotechnology\",\n",
    "    \"1700\": \"New Energy\",\n",
    "    \"2100\": \"Computing/Software\",\n",
    "    \"2400\": \"Networking/Security\",\n",
    "    \"2600\": \"Communications\",\n",
    "    \"2800\": \"Semiconductors\",\n",
    "    \"2900\": \"Designs\",\n",
    "    \"3600\": \"Mechanical/Business Methods\",\n",
    "    \"3700\": \"Mechanical/Manufacturing\",\n",
    "}\n",
    "\n",
    "df[\"subject_category\"] = (\n",
    "    df[\"technologyCenterNumber\"]\n",
    "      .map(TC_TO_SUBJECT)\n",
    "      .fillna(\"Other/Unknown\")\n",
    ")\n",
    "\n",
    "TARGET_SUBJECTS = {\n",
    "    \"Semiconductors\",\n",
    "    \"Biotechnology\",\n",
    "    \"New Energy\",\n",
    "    \"Networking/Security\",  \n",
    "    \"Communications\",\n",
    "}\n",
    "\n",
    "# Definite national security flagh where if subject category is target subjects, then it is flagged as nat sec related\n",
    "df[\"national_security_flag\"] = np.where(df[\"subject_category\"].isin(TARGET_SUBJECTS),\n",
    "                                        \"National Security related\",\n",
    "                                        \"Not National Security related\")\n",
    "# Quick check\n",
    "print(df[\"subject_category\"].value_counts(dropna=False).head(10))\n",
    "print(df[\"national_security_flag\"].value_counts(dropna=False))"
   ]
  },
  {
   "cell_type": "code",
   "execution_count": 15,
   "id": "4e9b3740-98cf-4356-bc14-6ef0c7e77503",
   "metadata": {},
   "outputs": [
    {
     "name": "stdout",
     "output_type": "stream",
     "text": [
      "✅ Saved processed files to: /Users/rellu/Documents/PTAB_Project/ABB_Projects/AI-Builders-Bootcamp-5/PTAB_Project_Data/Processed\n"
     ]
    }
   ],
   "source": [
    "# Save outputs - write both files\n",
    "\n",
    "from pathlib import Path\n",
    "from datetime import datetime\n",
    "stamp = datetime.now().strftime(\"%Y-%m-%d_%H%M%S\")\n",
    "\n",
    "# point to sibling folder \"PTAB_Project_Data/Processed\"\n",
    "outdir = Path(\"../PTAB_Project_Data/Processed\")\n",
    "outdir.mkdir(parents=True, exist_ok=True)\n",
    "\n",
    "# write both extended + compact files\n",
    "df.to_csv(outdir / f\"extended_{stamp}.csv\", index=False)\n",
    "df.loc[df[\"national_security_flag\"]==\"National Security related\"].to_csv(\n",
    "    outdir / f\"compact_natsec_{stamp}.csv\", index=False\n",
    ")\n",
    "\n",
    "print(\"✅ Saved processed files to:\", outdir.resolve())"
   ]
  }
 ],
 "metadata": {
  "kernelspec": {
   "display_name": "Python 3 (ipykernel)",
   "language": "python",
   "name": "python3"
  },
  "language_info": {
   "codemirror_mode": {
    "name": "ipython",
    "version": 3
   },
   "file_extension": ".py",
   "mimetype": "text/x-python",
   "name": "python",
   "nbconvert_exporter": "python",
   "pygments_lexer": "ipython3",
   "version": "3.12.11"
  }
 },
 "nbformat": 4,
 "nbformat_minor": 5
}
